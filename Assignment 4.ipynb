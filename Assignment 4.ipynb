{
 "cells": [
  {
   "cell_type": "code",
   "execution_count": null,
   "id": "1f3402ba",
   "metadata": {},
   "outputs": [],
   "source": [
    "# Question 1\n",
    "1. What exactly is []?\n",
    "\n",
    "   []- this is list symbol"
   ]
  },
  {
   "cell_type": "code",
   "execution_count": null,
   "id": "0f12919c",
   "metadata": {},
   "outputs": [],
   "source": [
    "# Question 2\n",
    "2. In a list of values stored in a variable called spam, how would you assign the value 'hello' as the\n",
    "   third value? (Assume [2, 4, 6, 8, 10] are in spam.)\n",
    "    Lets pretend the spam includes the list ['a','b', c','d'] for the next three queries.\n",
    "    \n",
    "spam[2] = 'hello'\n"
   ]
  },
  {
   "cell_type": "code",
   "execution_count": null,
   "id": "05b9285f",
   "metadata": {},
   "outputs": [],
   "source": [
    "# Question 3\n",
    "3. What is the value of spam[int(int('3' * 2) / 11)]?\n",
    "    \n",
    "    The value of spam[int(int('3' * 2) / 11)] is 'd'.\n",
    "\n",
    "\n"
   ]
  },
  {
   "cell_type": "code",
   "execution_count": null,
   "id": "6b452e07",
   "metadata": {},
   "outputs": [],
   "source": [
    "# Question 4\n",
    "4. What is the value of spam[-1]?\n",
    "  \n",
    "    It returns the last element of the list."
   ]
  },
  {
   "cell_type": "code",
   "execution_count": null,
   "id": "05049f7c",
   "metadata": {},
   "outputs": [],
   "source": [
    "# Question 5\n",
    "5. What is the value of spam[:2]?\n",
    "   \n",
    "\n",
    "    It returns a new list containing the first two elements of the original list."
   ]
  },
  {
   "cell_type": "code",
   "execution_count": null,
   "id": "8dd3001b",
   "metadata": {},
   "outputs": [],
   "source": [
    "# Question 6\n",
    "6. What is difference between the list methods append() and insert()?\n",
    "\n",
    "  The append() method adds an element to the end of a list, while the insert() method adds an element\n",
    "    at a specific index in the list.\n",
    "\n"
   ]
  },
  {
   "cell_type": "code",
   "execution_count": null,
   "id": "6d4b89ca",
   "metadata": {},
   "outputs": [],
   "source": [
    "# Question 7\n",
    "7. What are the two methods for removing items from a list?\n",
    "   \n",
    "    \n",
    "    The two methods for removing items from a list are remove() and pop()."
   ]
  },
  {
   "cell_type": "code",
   "execution_count": null,
   "id": "c1d4a5c2",
   "metadata": {},
   "outputs": [],
   "source": [
    "# Question 8\n",
    "8. Describe how list values and string values are identical.\n",
    "\n",
    "   List values and string values are both sequences of values. They can be indexed, sliced,\n",
    "    and iterated over using loops.\n",
    "    On the other hand List is a mutable (can be changed) and String is a immutable (cannot be changed)."
   ]
  },
  {
   "cell_type": "code",
   "execution_count": null,
   "id": "8fd5ca40",
   "metadata": {},
   "outputs": [],
   "source": [
    "# Question 9\n",
    "9. Whats the difference between tuples and lists?\n",
    "\n",
    "  The main difference between tuples and lists is that tuples are immutable (cannot be changed),\n",
    "    while lists are mutable (can be changed)."
   ]
  },
  {
   "cell_type": "code",
   "execution_count": null,
   "id": "75f2c4f0",
   "metadata": {},
   "outputs": [],
   "source": [
    "# Question 10\n",
    "10. How do you type a tuple value that only contains the integer 42?\n",
    "\n",
    "    To create a tuple with just the integer value 42, you can write (42,).\n",
    "    The comma after the value is mandatory to create a tuple with a single value.\n",
    "    If you don’t use a comma at the end of the integer, it will create an integer type\n",
    "    variable instead of a tuple."
   ]
  },
  {
   "cell_type": "code",
   "execution_count": null,
   "id": "bd40e51a",
   "metadata": {},
   "outputs": [],
   "source": [
    "# Question 11\n",
    "11. How do you get a list values tuple form? How do you get a tuple values list form?\n",
    "\n",
    "    To convert a list to a tuple in Python, you can use the built-in function tuple()\n",
    "    and pass the list as an argument to the function. For example, if you have a list l = [1, 2, 3],\n",
    "    you can convert it to a tuple by invoking tuple(l). To convert a tuple to a list in Python,\n",
    "    you can use the built-in function list() and pass the tuple as an argument to the function.\n",
    "    For example, if you have a tuple t = (1, 2, 3), you can convert it to a list by invoking list(t)."
   ]
  },
  {
   "cell_type": "code",
   "execution_count": null,
   "id": "3ef330ed",
   "metadata": {},
   "outputs": [],
   "source": [
    "# Question 12\n",
    "12. Variables that \"contain\" list values are not necessarily lists themselves. Instead, what do they\n",
    "    contain?\n",
    "    \n",
    "    variables that “contain” list values actually contain a reference or pointer to the memory\n",
    "    location where the list is stored instead of the list itself.\n",
    "    "
   ]
  },
  {
   "cell_type": "code",
   "execution_count": null,
   "id": "69286c3e",
   "metadata": {},
   "outputs": [],
   "source": [
    "# Question 13\n",
    "13. How do you distinguish between copy.copy() and copy.deepcopy()?\n",
    "\n",
    "    In Python, copy.copy() creates a shallow copy of an object which means that it creates a\n",
    "    new object with the same reference as the original object. This means that if you modify the\n",
    "    new object, the original object will also be modified. On the other hand, copy.deepcopy() \n",
    "    creates a deep copy of an object which means that it creates a new object with a new reference.\n",
    "    This means that if you modify the new object, the original object will not be modified."
   ]
  },
  {
   "cell_type": "code",
   "execution_count": null,
   "id": "bdf03c2b",
   "metadata": {},
   "outputs": [],
   "source": []
  },
  {
   "cell_type": "code",
   "execution_count": null,
   "id": "5826a0f9",
   "metadata": {},
   "outputs": [],
   "source": []
  },
  {
   "cell_type": "code",
   "execution_count": null,
   "id": "c3bf80fb",
   "metadata": {},
   "outputs": [],
   "source": []
  }
 ],
 "metadata": {
  "kernelspec": {
   "display_name": "Python 3 (ipykernel)",
   "language": "python",
   "name": "python3"
  },
  "language_info": {
   "codemirror_mode": {
    "name": "ipython",
    "version": 3
   },
   "file_extension": ".py",
   "mimetype": "text/x-python",
   "name": "python",
   "nbconvert_exporter": "python",
   "pygments_lexer": "ipython3",
   "version": "3.10.9"
  }
 },
 "nbformat": 4,
 "nbformat_minor": 5
}
